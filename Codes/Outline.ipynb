{
 "cells": [
  {
   "cell_type": "code",
   "execution_count": null,
   "id": "3db542aa",
   "metadata": {},
   "outputs": [],
   "source": [
    "# Import Libraries\n",
    "import numpy as np\n",
    "import matplotlib.pyplot as plt\n",
    "import scipy"
   ]
  },
  {
   "cell_type": "code",
   "execution_count": null,
   "id": "98fd8241",
   "metadata": {},
   "outputs": [],
   "source": [
    "# ------------------------------------------------ Functions ------------------------------------------------- #\n"
   ]
  },
  {
   "cell_type": "code",
   "execution_count": null,
   "id": "878b4227",
   "metadata": {},
   "outputs": [],
   "source": [
    "# --------------------------------------------- Read in the data --------------------------------------------- #\n",
    "# - Pick a date - #\n",
    "date = '20210804'\n",
    "time = '0341352699_d_img_hw1'\n",
    "\n",
    "# - Give location of data - #\n",
    "loc = '/local/Pyroxene_Project/ScienceData/'\n",
    "\n",
    "# - Load in recalibrated data - # --- this has not been filtered, just flat fielded and linearized. \n",
    "name = 'ch2_iir_nci_'\n",
    "subloc = 'ScienceData/'+name+date+'T'+time+'/data/calibrated/'+date+'/'\n",
    "filename = 'recalib_'+date+'T'+time+'.npy'\n",
    "recalib = np.load(loc+subloc+filename)\n",
    "\n",
    "print(\"Data loaded:\", filename)\n",
    "print(\"Data shape:\", np.shape(recalib))      #[wavelength, x, y]\n",
    "\n",
    "# - Load incidence angle data - #\n",
    "# incidence, phase, hr_angle, sun Azimuth, zenith - all degrees\n",
    "dirc = loc+'ScienceData/ch2_iir_nci_'+date+'T'+time+'/'\n",
    "angles = np.load(dirc+date+'T'+time+'_angles.npy')\n",
    "incidence = angles[0, :, :]\n",
    "\n",
    "# Read in calibration data\n",
    "cal_loc = '/local/Pyroxene_Project/Calibration/'\n",
    "# - Read in wavelength - #\n",
    "wavename = \"ch2_iirs_wavelength.csv\"\n",
    "bandnumber, wave_nano, bandwidth = np.loadtxt(loc+wavename, delimiter=',', skiprows=1, unpack=True)\n",
    "wave = wave_nano/1000\n",
    "\n",
    "# - Read in Modtran Data - #\n",
    "modtran_wave, modtran_rad = np.loadtxt(cal_loc+'Modtran_1nm_4.85um.txt', unpack=True) # units are W/m^2/micron\n",
    "\n",
    "# - Resample Modtran - #\n",
    "modtran_resamp = np.interp(wave, modtran_wave, modtran_rad)\n",
    "\n",
    "# - Read in Saturation data - # \n",
    "# -- scan 20200522T0854181735_d_img_d18 needs e2g2.\n",
    "dirc_sat = cal_loc+'ch2_iirs_cal_e1g2_saturations_radiance.csv'\n",
    "bandnumber, maxsr, dynamicrange = np.loadtxt(dirc_sat, delimiter=',', unpack=True)\n"
   ]
  },
  {
   "cell_type": "code",
   "execution_count": null,
   "id": "d218877d",
   "metadata": {},
   "outputs": [],
   "source": [
    "# ---------------------------- Calculate Apparent Reflectance ---------------------------- #\n"
   ]
  },
  {
   "cell_type": "code",
   "execution_count": null,
   "id": "dc3eb9eb",
   "metadata": {},
   "outputs": [],
   "source": [
    "# ------------------------- Mask and Smooth Data --------------------------- #\n"
   ]
  },
  {
   "cell_type": "code",
   "execution_count": null,
   "id": "94e954ba",
   "metadata": {},
   "outputs": [],
   "source": [
    "#  ------------------------- Calculate Continuum Removed --------------------------- #\n"
   ]
  },
  {
   "cell_type": "code",
   "execution_count": null,
   "id": "f3901e34",
   "metadata": {},
   "outputs": [],
   "source": [
    "# ---------------------------- Calculate band center ---------------------------- #\n"
   ]
  },
  {
   "cell_type": "code",
   "execution_count": null,
   "id": "97d54ec6",
   "metadata": {},
   "outputs": [],
   "source": [
    "# ---------------------------- Calculate band depth ---------------------------- #\n"
   ]
  },
  {
   "cell_type": "code",
   "execution_count": null,
   "id": "6b0b131d",
   "metadata": {},
   "outputs": [],
   "source": [
    "# ---------------------------------------- Figures ---------------------------------------- #\n"
   ]
  }
 ],
 "metadata": {
  "kernelspec": {
   "display_name": "Python 3 (ipykernel)",
   "language": "python",
   "name": "python3"
  },
  "language_info": {
   "codemirror_mode": {
    "name": "ipython",
    "version": 3
   },
   "file_extension": ".py",
   "mimetype": "text/x-python",
   "name": "python",
   "nbconvert_exporter": "python",
   "pygments_lexer": "ipython3",
   "version": "3.9.17"
  }
 },
 "nbformat": 4,
 "nbformat_minor": 5
}
